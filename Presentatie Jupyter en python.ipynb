{
 "cells": [
  {
   "cell_type": "markdown",
   "metadata": {},
   "source": [
    "# Interactief gebruik van het python-ecosysteem voor onderzoek"
   ]
  },
  {
   "cell_type": "markdown",
   "metadata": {},
   "source": [
    "Bart den Ouden, 22 mei 2018"
   ]
  },
  {
   "cell_type": "markdown",
   "metadata": {},
   "source": [
    "## Doel"
   ]
  },
  {
   "cell_type": "markdown",
   "metadata": {},
   "source": [
    "Wanneer je als adviseur onderzoek doet en berekeningen maakt, waarvoor geen specifieke software bestaat, grijp je al snel naar een spreadsheet. Spreadsheets hebben echter nadelen: \n",
    "* ze nodigen niet uit tot het goed structureren van de inhoud. Data, bewerkingen op data, logica, metadata, presentatie en rapportage lopen vaak door elkaar heen. \n",
    "* een spreadsheet biedt weinig overzicht over datasets met veel rijen en kolommen. \n",
    "* binnen een spreadsheet kunnen relatief makkelijk fouten ontstaan en onopgemerkt blijven. \n"
   ]
  },
  {
   "cell_type": "markdown",
   "metadata": {},
   "source": [
    "## Tools"
   ]
  },
  {
   "cell_type": "markdown",
   "metadata": {},
   "source": [
    "### Jupyter\n",
    "Jupyter is een omgeving waarbinnen scripttalen interactief gebruikt kunnen worden, waaronder python en R. Een Jupyter-notebook bestaat uit een lijst met cellen. Er zijn twee typen cellen: \n",
    "* tekst\n",
    "* code\n",
    "\n",
    "Je kijkt nu naar een cel met tekst, die je kunt opmaken. Hieronder een voorbeeld van een cel met code:"
   ]
  },
  {
   "cell_type": "code",
   "execution_count": 4,
   "metadata": {},
   "outputs": [
    {
     "name": "stdout",
     "output_type": "stream",
     "text": [
      "Het resultaat van uitgevoerde code geeft Jupyter onder de code weer. \n"
     ]
    }
   ],
   "source": [
    "# Dit is een commentaarregel: deze regel wordt voorafgegaan door een \"#\" en niet uitgevoerd. \n",
    "\n",
    "# De onderstaande regel wordt wel uitgevoerd:\n",
    "print(\"Het resultaat van uitgevoerde code geeft Jupyter onder de code weer. \")"
   ]
  },
  {
   "cell_type": "markdown",
   "metadata": {},
   "source": [
    "Jupyter in combinatie met python wordt vooral in de wetenschappelijke wereld veel gebruikt. Ook voor datascience (big data) wordt het veel gebruikt. "
   ]
  },
  {
   "cell_type": "markdown",
   "metadata": {},
   "source": [
    "## Jupyterlab"
   ]
  },
  {
   "cell_type": "markdown",
   "metadata": {},
   "source": [
    "Volgens planning verschijnt dit jaar versie 1.0 van Jupyterlab, dat Jupyter opvolgt. Jupyterlab lijkt veel meer functionaliteit te bieden en gebruiksvriendelijk te zijn. "
   ]
  },
  {
   "cell_type": "markdown",
   "metadata": {},
   "source": [
    "### Python\n",
    "* één van de meest populaire talen, zodat het ook voor andere doeleinden gebruikt kan worden (scripts in Qgis bijvoorbeeld)\n",
    "* kan gebruikt worden voor zowel scripten als programmeren van omvangrijke applicaties\n",
    "* open source\n",
    "* veel goede bibliotheken en frameworks voor handen"
   ]
  },
  {
   "cell_type": "code",
   "execution_count": 2,
   "metadata": {},
   "outputs": [
    {
     "name": "stdout",
     "output_type": "stream",
     "text": [
      "1\n",
      "1\n",
      "2\n",
      "3\n",
      "5\n",
      "8\n",
      "13\n",
      "21\n",
      "34\n",
      "55\n",
      "89\n"
     ]
    }
   ],
   "source": [
    "# fibonacci:\n",
    "x, y = (1, 1)\n",
    "while x < 100:\n",
    "    print(x)\n",
    "    x, y = (y, x + y)"
   ]
  },
  {
   "cell_type": "markdown",
   "metadata": {},
   "source": [
    "## Visualisatie"
   ]
  },
  {
   "cell_type": "code",
   "execution_count": null,
   "metadata": {},
   "outputs": [],
   "source": []
  },
  {
   "cell_type": "markdown",
   "metadata": {},
   "source": [
    "## Delen en publiceren"
   ]
  },
  {
   "cell_type": "markdown",
   "metadata": {},
   "source": [
    "### JupyterHub"
   ]
  },
  {
   "cell_type": "markdown",
   "metadata": {},
   "source": [
    "## Hydrologie"
   ]
  },
  {
   "cell_type": "code",
   "execution_count": null,
   "metadata": {},
   "outputs": [],
   "source": []
  },
  {
   "cell_type": "markdown",
   "metadata": {},
   "source": [
    "## GIS"
   ]
  },
  {
   "cell_type": "code",
   "execution_count": null,
   "metadata": {},
   "outputs": [],
   "source": []
  }
 ],
 "metadata": {
  "kernelspec": {
   "display_name": "Python 3",
   "language": "python",
   "name": "python3"
  },
  "language_info": {
   "codemirror_mode": {
    "name": "ipython",
    "version": 3
   },
   "file_extension": ".py",
   "mimetype": "text/x-python",
   "name": "python",
   "nbconvert_exporter": "python",
   "pygments_lexer": "ipython3",
   "version": "3.6.4"
  }
 },
 "nbformat": 4,
 "nbformat_minor": 2
}
