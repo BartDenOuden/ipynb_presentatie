{
 "cells": [
  {
   "cell_type": "markdown",
   "metadata": {},
   "source": [
    "# Interactief gebruik van het python-ecosysteem voor onderzoek"
   ]
  },
  {
   "cell_type": "markdown",
   "metadata": {},
   "source": [
    "Bart den Ouden, 22 mei 2018"
   ]
  },
  {
   "cell_type": "markdown",
   "metadata": {},
   "source": [
    "## Doel"
   ]
  },
  {
   "cell_type": "markdown",
   "metadata": {},
   "source": [
    "Wanneer je als adviseur onderzoek doet en berekeningen maakt, waarvoor geen specifieke software bestaat, grijp je al snel naar een spreadsheet. Spreadsheets hebben echter nadelen: \n",
    "* ze nodigen niet uit tot het goed structureren van de inhoud. Data, bewerkingen op data, logica, metadata, presentatie en rapportage lopen vaak door elkaar heen. \n",
    "* een spreadsheet biedt weinig overzicht over datasets met veel rijen en kolommen. \n",
    "* binnen een spreadsheet kunnen relatief makkelijk fouten ontstaan en onopgemerkt blijven. \n"
   ]
  },
  {
   "cell_type": "markdown",
   "metadata": {},
   "source": [
    "## Tools"
   ]
  },
  {
   "cell_type": "markdown",
   "metadata": {},
   "source": [
    "### Jupyter en Jupyterlab\n",
    "Jupyter is een omgeving waarbinnen scripttalen interactief gebruikt kunnen worden, waaronder python en R. Een Jupyter-notebook bestaat uit een lijst met cellen. Er zijn twee typen cellen: \n",
    "* tekst\n",
    "* code\n",
    "\n",
    "Je kijkt nu naar een cel met tekst, die je kunt opmaken. Hieronder een voorbeeld van een cel met code:"
   ]
  },
  {
   "cell_type": "code",
   "execution_count": 4,
   "metadata": {},
   "outputs": [
    {
     "name": "stdout",
     "output_type": "stream",
     "text": [
      "Het resultaat van uitgevoerde code geeft Jupyter onder de code weer. \n"
     ]
    }
   ],
   "source": [
    "# Dit is een commentaarregel: deze regel wordt voorafgegaan door een \"#\" en niet uitgevoerd. \n",
    "\n",
    "# De onderstaande regel wordt wel uitgevoerd:\n",
    "print(\"Het resultaat van uitgevoerde code geeft Jupyter onder de code weer. \")"
   ]
  },
  {
   "cell_type": "markdown",
   "metadata": {},
   "source": [
    "Jupyter in combinatie met python wordt vooral in de wetenschappelijke wereld veel gebruikt. Ook voor datascience (big data) wordt het veel gebruikt. "
   ]
  },
  {
   "cell_type": "markdown",
   "metadata": {},
   "source": [
    "Volgens planning verschijnt dit jaar versie 1.0 van **Jupyterlab**, dat Jupyter opvolgt. Jupyterlab lijkt veel meer functionaliteit te bieden en gebruiksvriendelijk te zijn. Ik heb het idee dat het veel op RStudio lijkt."
   ]
  },
  {
   "cell_type": "markdown",
   "metadata": {},
   "source": [
    "### Python\n",
    "* één van de meest populaire talen, zodat het ook voor andere doeleinden gebruikt kan worden (scripts in Qgis bijvoorbeeld)\n",
    "* kan gebruikt worden voor zowel scripten als programmeren van omvangrijke applicaties\n",
    "* open source\n",
    "* veel goede bibliotheken en frameworks voor handen"
   ]
  },
  {
   "cell_type": "code",
   "execution_count": 2,
   "metadata": {
    "scrolled": true
   },
   "outputs": [
    {
     "name": "stdout",
     "output_type": "stream",
     "text": [
      "1\n",
      "1\n",
      "2\n",
      "3\n",
      "5\n",
      "8\n",
      "13\n",
      "21\n",
      "34\n",
      "55\n",
      "89\n"
     ]
    }
   ],
   "source": [
    "# fibonacci:\n",
    "x, y = (1, 1)\n",
    "while x < 100:\n",
    "    print(x)\n",
    "    x, y = (y, x + y)"
   ]
  },
  {
   "cell_type": "markdown",
   "metadata": {},
   "source": [
    "### Ecosysteem voor scientific computing\n",
    "\n",
    "#### numpy: numerieke wiskunde, matrixen\n",
    "numpy is een python module voor numeriek wiskunde. De code is grotendeels in C en Fortran geschreven en daardoor snel. \n",
    "\n",
    "\n",
    "\n"
   ]
  },
  {
   "cell_type": "code",
   "execution_count": 50,
   "metadata": {
    "scrolled": true
   },
   "outputs": [
    {
     "name": "stdout",
     "output_type": "stream",
     "text": [
      "[[0.37585802 0.35163184]\n",
      " [0.35983122 0.68329384]\n",
      " [0.49177793 0.58518173]\n",
      " [0.17246141 0.54004889]\n",
      " [0.65340383 0.50500822]]\n"
     ]
    }
   ],
   "source": [
    "import numpy as np\n",
    "\n",
    "# maak van een matrix met random waarden:\n",
    "matrix_1d = np.random.random(10)\n",
    "\n",
    "# maak een 2d matrix van de 1d matrix: \n",
    "matrix_2d = matrix_1d.reshape((5,2))\n",
    "print(matrix_2d)"
   ]
  },
  {
   "cell_type": "code",
   "execution_count": 54,
   "metadata": {},
   "outputs": [
    {
     "data": {
      "text/plain": [
       "array([[37, 35],\n",
       "       [35, 68],\n",
       "       [49, 58],\n",
       "       [17, 54],\n",
       "       [65, 50]])"
      ]
     },
     "execution_count": 54,
     "metadata": {},
     "output_type": "execute_result"
    }
   ],
   "source": [
    "# matrixen zijn heel gemakkelijk te bewerken:\n",
    "matrix_rnd_int = (matrix_2d * 100).astype(int)\n",
    "matrix_rnd_int"
   ]
  },
  {
   "cell_type": "code",
   "execution_count": 71,
   "metadata": {},
   "outputs": [
    {
     "name": "stdout",
     "output_type": "stream",
     "text": [
      "kwadraten:\n",
      "[  1   4   9  16  25  36  49  64  81 100]\n",
      "\n",
      "matrix_1 * matrix_10:\n",
      "[  10   40   90  160  250  360  490  640  810 1000]\n"
     ]
    }
   ],
   "source": [
    "# nog een voorbeeld:\n",
    "matrix_1 = np.arange(1,11)\n",
    "kwadraten = matrix_1**2\n",
    "print('kwadraten:')\n",
    "print(kwadraten)\n",
    "print()\n",
    "\n",
    "matrix_10 = matrix_1 * 10\n",
    "print('matrix_1 * matrix_10:')\n",
    "print(matrix_1 * matrix_10)\n"
   ]
  },
  {
   "cell_type": "markdown",
   "metadata": {},
   "source": [
    "#### panda's: tabellen en tijdreeksanalyse (alternatief voor spreadsheets)\n",
    "panda's is een python bibliotheek die 1- en 2-dimensionale dataobjecten biedt, die gebaseerd zijn op numpy's datastructuren. Met panda's kun je tabellen maken die een alternatief kunnen zijn voor spreadsheets. \n"
   ]
  },
  {
   "cell_type": "code",
   "execution_count": 11,
   "metadata": {
    "scrolled": true
   },
   "outputs": [
    {
     "data": {
      "text/html": [
       "<div>\n",
       "<style scoped>\n",
       "    .dataframe tbody tr th:only-of-type {\n",
       "        vertical-align: middle;\n",
       "    }\n",
       "\n",
       "    .dataframe tbody tr th {\n",
       "        vertical-align: top;\n",
       "    }\n",
       "\n",
       "    .dataframe thead th {\n",
       "        text-align: right;\n",
       "    }\n",
       "</style>\n",
       "<table border=\"1\" class=\"dataframe\">\n",
       "  <thead>\n",
       "    <tr style=\"text-align: right;\">\n",
       "      <th></th>\n",
       "      <th>plaats</th>\n",
       "      <th>temperatuur</th>\n",
       "    </tr>\n",
       "  </thead>\n",
       "  <tbody>\n",
       "    <tr>\n",
       "      <th>0</th>\n",
       "      <td>Rotterdam</td>\n",
       "      <td>15</td>\n",
       "    </tr>\n",
       "    <tr>\n",
       "      <th>1</th>\n",
       "      <td>De Bilt</td>\n",
       "      <td>17</td>\n",
       "    </tr>\n",
       "    <tr>\n",
       "      <th>2</th>\n",
       "      <td>Maastricht</td>\n",
       "      <td>19</td>\n",
       "    </tr>\n",
       "  </tbody>\n",
       "</table>\n",
       "</div>"
      ],
      "text/plain": [
       "       plaats  temperatuur\n",
       "0   Rotterdam           15\n",
       "1     De Bilt           17\n",
       "2  Maastricht           19"
      ]
     },
     "execution_count": 11,
     "metadata": {},
     "output_type": "execute_result"
    }
   ],
   "source": [
    "import pandas as pd\n",
    "\n",
    "df = pd.DataFrame({'plaats': ['Rotterdam', 'De Bilt', 'Maastricht'], 'temperatuur': [15, 17, 19]})\n",
    "df"
   ]
  },
  {
   "cell_type": "markdown",
   "metadata": {},
   "source": [
    "#### matplotlib: grafieken\n",
    "Zie visualisatie. "
   ]
  },
  {
   "cell_type": "markdown",
   "metadata": {},
   "source": [
    "## Visualisatie"
   ]
  },
  {
   "cell_type": "markdown",
   "metadata": {},
   "source": [
    "Naast tabellen kan Jupyter ook grafieken weergeven. Een veel gebruikte bibliotheek hiervoor is matplotlib. Een heel basaal voorbeeld:"
   ]
  },
  {
   "cell_type": "code",
   "execution_count": 73,
   "metadata": {},
   "outputs": [
    {
     "data": {
      "text/plain": [
       "[<matplotlib.lines.Line2D at 0x14594c50>]"
      ]
     },
     "execution_count": 73,
     "metadata": {},
     "output_type": "execute_result"
    },
    {
     "data": {
      "image/png": "[encoded data removed]",
      "text/plain": [
       "<Figure size 432x288 with 1 Axes>"
      ]
     },
     "metadata": {},
     "output_type": "display_data"
    }
   ],
   "source": [
    "import matplotlib.pyplot as plt\n",
    "\n",
    "tien_random_getallen = np.random.random(10)\n",
    "plt.plot(tien_random_getallen, 'bo')  # 'bo' = blauwe punten"
   ]
  },
  {
   "cell_type": "markdown",
   "metadata": {},
   "source": [
    "## Delen en publiceren\n",
    "Met de nbviewer kunnen notebooks in een browser worden bekeken zonder dat software hoeft te zijn geinstalleerd. \n",
    "\n",
    "http://nbviewer.jupyter.org/\n",
    "\n",
    "Notebooks kunnen online worden gezet op GitHub. Met onderstaande link bijvoorbeeld, wordt dit notebook, dat op GitHub staat en openbaar is, geopend in de nbviewer: \n",
    "\n",
    "http://nbviewer.jupyter.org/github/BartDenOuden/ipynb_presentatie/blob/master/Presentatie%20Jupyter%20en%20python.ipynb\n",
    "\n",
    "Met nbviewer kunnen notebooks alleen worden bekeken; code kan niet worden uitgevoerd. 'Binder' is een service die dit wel mogelijk maakt. Binder is nog in ontwikkeling. Hieronder een link naar een voorbeeld (het laden kan even duren):\n",
    "\n",
    "https://mybinder.org/v2/gh/jvns/pandas-cookbook/master\n"
   ]
  },
  {
   "cell_type": "markdown",
   "metadata": {},
   "source": [
    "## Hydrologie en GIS"
   ]
  },
  {
   "cell_type": "markdown",
   "metadata": {},
   "source": [
    "Een voor de hand liggende hydrologische toepassing van het ecosysteem is tijdreeksanalyse. Ik heb dit gedaan voor gemeten afvoeren van de Bakelse Aa. \n",
    "\n",
    "Andere toepassingen die ik kan bedenken: \n",
    "* gebruik van analytische hydrologische formules\n",
    "* matrix manipulatie voor geohydrologische modellen\n",
    "\n",
    "Wat betreft GIS zijn er ook mogelijkheden. Arcpy (python module van Esri voor gebruik met ArcGis) zou gebruikt kunnen worden en wellicht ook Qgis. GDAL heeft een python-binding, en zou daarom binnen Jupyter gebruikt kunnen worden. \n"
   ]
  },
  {
   "cell_type": "markdown",
   "metadata": {},
   "source": [
    "## Implementatie"
   ]
  },
  {
   "cell_type": "markdown",
   "metadata": {},
   "source": [
    "Wat er voor nodig is om Jupyter en python in een bedrijfsnetwerk aan adviseurs aan te bieden weet ik niet. Ik kan een pilot uitvoeren met **JupyterHub** (kan ik op mijn webserver installeren en onderzoeken welke mogelijkheden dit biedt aan de gebruiker en samenwerking). \n"
   ]
  }
 ],
 "metadata": {
  "kernelspec": {
   "display_name": "Python 3",
   "language": "python",
   "name": "python3"
  },
  "language_info": {
   "codemirror_mode": {
    "name": "ipython",
    "version": 3
   },
   "file_extension": ".py",
   "mimetype": "text/x-python",
   "name": "python",
   "nbconvert_exporter": "python",
   "pygments_lexer": "ipython3",
   "version": "3.6.4"
  }
 },
 "nbformat": 4,
 "nbformat_minor": 2
}
